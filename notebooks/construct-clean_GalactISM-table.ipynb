{
 "cells": [
  {
   "cell_type": "code",
   "execution_count": 1,
   "id": "fd7a1d92-92d6-4dcf-9a54-f910b3101199",
   "metadata": {},
   "outputs": [],
   "source": [
    "import numpy as np\n",
    "import h5py\n",
    "import glob, os, re, sys\n",
    "import pickle\n",
    "from pathlib import Path\n",
    "sys.path.append('../')\n",
    "\n",
    "import pandas as pd\n",
    "\n",
    "import astro_helper as ah\n",
    "import configparser\n",
    "config = configparser.ConfigParser()\n",
    "config.read('../config_allgas.ini')\n",
    "\n",
    "%matplotlib inline\n",
    "import matplotlib as mpl\n",
    "import matplotlib.pyplot as plt\n",
    "from matplotlib import cm\n",
    "import matplotlib.patches as patches\n",
    "from matplotlib import rc\n",
    "rc('axes', linewidth=1.5)\n",
    "rc('axes', edgecolor='#3C3C3C')\n",
    "plt.style.use('mpl_style_Jeffreson.mplstyle')\n",
    "custom_colors = {\n",
    "    'grey': '#3C3C3C',\n",
    "    'turquoise': '#5E9F87'\n",
    "}"
   ]
  },
  {
   "cell_type": "markdown",
   "id": "61a1df41-4871-4a93-a156-d151f80d9270",
   "metadata": {},
   "source": [
    "# weight"
   ]
  },
  {
   "cell_type": "code",
   "execution_count": 68,
   "id": "48b18836-fe4c-4b86-9355-4bf2d24683b1",
   "metadata": {},
   "outputs": [],
   "source": [
    "tags = ['ETG-vlM', 'ETG-lowM', 'ETG-medM', 'ETG-hiM', 'NGC300', 'MW']\n",
    "tagdirs = [Path(config[tag]['SAVE_DIR']) / Path(config[tag]['SUBDIR']) for tag in tags]\n",
    "xymaxs = [config[tag].getfloat('XYMAX') for tag in tags] # kpc\n",
    "xybinwidths = [config[tag].getfloat('XYBINWIDTH') for tag in tags] # pc\n",
    "xybinnos = [int(np.rint(2.*xymax * ah.kpc_to_cm / (xybinwidth * ah.pc_to_cm))) for xymax, xybinwidth in zip(xymaxs, xybinwidths)]"
   ]
  },
  {
   "cell_type": "code",
   "execution_count": 69,
   "id": "d595b47e",
   "metadata": {},
   "outputs": [],
   "source": [
    "# create x, y and R grids for each tag\n",
    "xgrids, ygrids, Rgrids = [], [], []\n",
    "for tagdir, xymax, xybinno in zip(tagdirs, xymaxs, xybinnos):\n",
    "    x_edges = np.linspace(-xymax*ah.kpc_to_cm, xymax*ah.kpc_to_cm, xybinno+1)\n",
    "    y_edges = np.linspace(-xymax*ah.kpc_to_cm, xymax*ah.kpc_to_cm, xybinno+1)\n",
    "    x = 0.5 * (x_edges[:-1] + x_edges[1:])\n",
    "    y = 0.5 * (y_edges[:-1] + y_edges[1:])\n",
    "    xgrid, ygrid = np.meshgrid(x, y)\n",
    "    Rgrid = np.sqrt(xgrid**2 + ygrid**2)\n",
    "    xgrids.append(xgrid)\n",
    "    ygrids.append(ygrid)\n",
    "    Rgrids.append(Rgrid)"
   ]
  },
  {
   "cell_type": "code",
   "execution_count": 70,
   "id": "49e8099a",
   "metadata": {},
   "outputs": [
    {
     "data": {
      "image/png": "[encoded data removed]",
      "text/plain": [
       "<Figure size 640x480 with 2 Axes>"
      ]
     },
     "metadata": {},
     "output_type": "display_data"
    }
   ],
   "source": [
    "plt.imshow(Rgrids[0]/ah.kpc_to_cm, origin='lower')\n",
    "plt.colorbar()\n",
    "plt.show()"
   ]
  },
  {
   "cell_type": "code",
   "execution_count": 71,
   "id": "3145ad91-bfd0-483b-a122-660b9f341a20",
   "metadata": {},
   "outputs": [
    {
     "name": "stdout",
     "output_type": "stream",
     "text": [
      "['/n/holystore01/LABS/itc_lab/Users/sjeffreson/ETGs/vlM-output/Forces_124_ETG-vlM_T2.0e+04_avir2.0e+00.pkl', '/n/holystore01/LABS/itc_lab/Users/sjeffreson/ETGs/vlM-output/Forces_149_ETG-vlM_T2.0e+04_avir2.0e+00.pkl', '/n/holystore01/LABS/itc_lab/Users/sjeffreson/ETGs/vlM-output/Forces_174_ETG-vlM_T2.0e+04_avir2.0e+00.pkl', '/n/holystore01/LABS/itc_lab/Users/sjeffreson/ETGs/vlM-output/Forces_199_ETG-vlM_T2.0e+04_avir2.0e+00.pkl', '/n/holystore01/LABS/itc_lab/Users/sjeffreson/ETGs/vlM-output/Forces_224_ETG-vlM_T2.0e+04_avir2.0e+00.pkl', '/n/holystore01/LABS/itc_lab/Users/sjeffreson/ETGs/vlM-output/Forces_249_ETG-vlM_T2.0e+04_avir2.0e+00.pkl', '/n/holystore01/LABS/itc_lab/Users/sjeffreson/ETGs/vlM-output/Forces_274_ETG-vlM_T2.0e+04_avir2.0e+00.pkl', '/n/holystore01/LABS/itc_lab/Users/sjeffreson/ETGs/vlM-output/Forces_299_ETG-vlM_T2.0e+04_avir2.0e+00.pkl', '/n/holystore01/LABS/itc_lab/Users/sjeffreson/ETGs/vlM-output/Forces_324_ETG-vlM_T2.0e+04_avir2.0e+00.pkl', '/n/holystore01/LABS/itc_lab/Users/sjeffreson/ETGs/vlM-output/Forces_349_ETG-vlM_T2.0e+04_avir2.0e+00.pkl', '/n/holystore01/LABS/itc_lab/Users/sjeffreson/ETGs/vlM-output/Forces_374_ETG-vlM_T2.0e+04_avir2.0e+00.pkl', '/n/holystore01/LABS/itc_lab/Users/sjeffreson/ETGs/vlM-output/Forces_399_ETG-vlM_T2.0e+04_avir2.0e+00.pkl']\n",
      "['/n/holystore01/LABS/itc_lab/Users/sjeffreson/ETGs/vlM-output/allgas_124_ETG-vlM.pkl', '/n/holystore01/LABS/itc_lab/Users/sjeffreson/ETGs/vlM-output/allgas_149_ETG-vlM.pkl', '/n/holystore01/LABS/itc_lab/Users/sjeffreson/ETGs/vlM-output/allgas_174_ETG-vlM.pkl', '/n/holystore01/LABS/itc_lab/Users/sjeffreson/ETGs/vlM-output/allgas_199_ETG-vlM.pkl', '/n/holystore01/LABS/itc_lab/Users/sjeffreson/ETGs/vlM-output/allgas_224_ETG-vlM.pkl', '/n/holystore01/LABS/itc_lab/Users/sjeffreson/ETGs/vlM-output/allgas_249_ETG-vlM.pkl', '/n/holystore01/LABS/itc_lab/Users/sjeffreson/ETGs/vlM-output/allgas_274_ETG-vlM.pkl', '/n/holystore01/LABS/itc_lab/Users/sjeffreson/ETGs/vlM-output/allgas_299_ETG-vlM.pkl', '/n/holystore01/LABS/itc_lab/Users/sjeffreson/ETGs/vlM-output/allgas_324_ETG-vlM.pkl', '/n/holystore01/LABS/itc_lab/Users/sjeffreson/ETGs/vlM-output/allgas_349_ETG-vlM.pkl', '/n/holystore01/LABS/itc_lab/Users/sjeffreson/ETGs/vlM-output/allgas_374_ETG-vlM.pkl', '/n/holystore01/LABS/itc_lab/Users/sjeffreson/ETGs/vlM-output/allgas_399_ETG-vlM.pkl']\n",
      "['/n/holystore01/LABS/itc_lab/Users/sjeffreson/ETGs/vlM-output/coolgas_124_ETG-vlM_T2.0e+04_avir2.0e+00.pkl', '/n/holystore01/LABS/itc_lab/Users/sjeffreson/ETGs/vlM-output/coolgas_149_ETG-vlM_T2.0e+04_avir2.0e+00.pkl', '/n/holystore01/LABS/itc_lab/Users/sjeffreson/ETGs/vlM-output/coolgas_174_ETG-vlM_T2.0e+04_avir2.0e+00.pkl', '/n/holystore01/LABS/itc_lab/Users/sjeffreson/ETGs/vlM-output/coolgas_199_ETG-vlM_T2.0e+04_avir2.0e+00.pkl', '/n/holystore01/LABS/itc_lab/Users/sjeffreson/ETGs/vlM-output/coolgas_224_ETG-vlM_T2.0e+04_avir2.0e+00.pkl', '/n/holystore01/LABS/itc_lab/Users/sjeffreson/ETGs/vlM-output/coolgas_249_ETG-vlM_T2.0e+04_avir2.0e+00.pkl', '/n/holystore01/LABS/itc_lab/Users/sjeffreson/ETGs/vlM-output/coolgas_274_ETG-vlM_T2.0e+04_avir2.0e+00.pkl', '/n/holystore01/LABS/itc_lab/Users/sjeffreson/ETGs/vlM-output/coolgas_299_ETG-vlM_T2.0e+04_avir2.0e+00.pkl', '/n/holystore01/LABS/itc_lab/Users/sjeffreson/ETGs/vlM-output/coolgas_324_ETG-vlM_T2.0e+04_avir2.0e+00.pkl', '/n/holystore01/LABS/itc_lab/Users/sjeffreson/ETGs/vlM-output/coolgas_349_ETG-vlM_T2.0e+04_avir2.0e+00.pkl', '/n/holystore01/LABS/itc_lab/Users/sjeffreson/ETGs/vlM-output/coolgas_374_ETG-vlM_T2.0e+04_avir2.0e+00.pkl', '/n/holystore01/LABS/itc_lab/Users/sjeffreson/ETGs/vlM-output/coolgas_399_ETG-vlM_T2.0e+04_avir2.0e+00.pkl']\n",
      "['/n/holystore01/LABS/itc_lab/Users/sjeffreson/ETGs/vlM-output/voldens_124_ETG-vlM.pkl', '/n/holystore01/LABS/itc_lab/Users/sjeffreson/ETGs/vlM-output/voldens_149_ETG-vlM.pkl', '/n/holystore01/LABS/itc_lab/Users/sjeffreson/ETGs/vlM-output/voldens_174_ETG-vlM.pkl', '/n/holystore01/LABS/itc_lab/Users/sjeffreson/ETGs/vlM-output/voldens_199_ETG-vlM.pkl', '/n/holystore01/LABS/itc_lab/Users/sjeffreson/ETGs/vlM-output/voldens_224_ETG-vlM.pkl', '/n/holystore01/LABS/itc_lab/Users/sjeffreson/ETGs/vlM-output/voldens_249_ETG-vlM.pkl', '/n/holystore01/LABS/itc_lab/Users/sjeffreson/ETGs/vlM-output/voldens_274_ETG-vlM.pkl', '/n/holystore01/LABS/itc_lab/Users/sjeffreson/ETGs/vlM-output/voldens_299_ETG-vlM.pkl', '/n/holystore01/LABS/itc_lab/Users/sjeffreson/ETGs/vlM-output/voldens_324_ETG-vlM.pkl', '/n/holystore01/LABS/itc_lab/Users/sjeffreson/ETGs/vlM-output/voldens_349_ETG-vlM.pkl', '/n/holystore01/LABS/itc_lab/Users/sjeffreson/ETGs/vlM-output/voldens_374_ETG-vlM.pkl', '/n/holystore01/LABS/itc_lab/Users/sjeffreson/ETGs/vlM-output/voldens_399_ETG-vlM.pkl']\n",
      "['/n/holystore01/LABS/itc_lab/Users/sjeffreson/ETGs/vlM-output/star_voldens_124_ETG-vlM.pkl', '/n/holystore01/LABS/itc_lab/Users/sjeffreson/ETGs/vlM-output/star_voldens_149_ETG-vlM.pkl', '/n/holystore01/LABS/itc_lab/Users/sjeffreson/ETGs/vlM-output/star_voldens_174_ETG-vlM.pkl', '/n/holystore01/LABS/itc_lab/Users/sjeffreson/ETGs/vlM-output/star_voldens_199_ETG-vlM.pkl', '/n/holystore01/LABS/itc_lab/Users/sjeffreson/ETGs/vlM-output/star_voldens_224_ETG-vlM.pkl', '/n/holystore01/LABS/itc_lab/Users/sjeffreson/ETGs/vlM-output/star_voldens_249_ETG-vlM.pkl', '/n/holystore01/LABS/itc_lab/Users/sjeffreson/ETGs/vlM-output/star_voldens_274_ETG-vlM.pkl', '/n/holystore01/LABS/itc_lab/Users/sjeffreson/ETGs/vlM-output/star_voldens_299_ETG-vlM.pkl', '/n/holystore01/LABS/itc_lab/Users/sjeffreson/ETGs/vlM-output/star_voldens_324_ETG-vlM.pkl', '/n/holystore01/LABS/itc_lab/Users/sjeffreson/ETGs/vlM-output/star_voldens_349_ETG-vlM.pkl', '/n/holystore01/LABS/itc_lab/Users/sjeffreson/ETGs/vlM-output/star_voldens_374_ETG-vlM.pkl', '/n/holystore01/LABS/itc_lab/Users/sjeffreson/ETGs/vlM-output/star_voldens_399_ETG-vlM.pkl']\n",
      "['/n/holystore01/LABS/itc_lab/Users/sjeffreson/ETGs/lowM-output/Forces_124_ETG-lowM_T2.0e+04_avir2.0e+00.pkl', '/n/holystore01/LABS/itc_lab/Users/sjeffreson/ETGs/lowM-output/Forces_149_ETG-lowM_T2.0e+04_avir2.0e+00.pkl', '/n/holystore01/LABS/itc_lab/Users/sjeffreson/ETGs/lowM-output/Forces_174_ETG-lowM_T2.0e+04_avir2.0e+00.pkl', '/n/holystore01/LABS/itc_lab/Users/sjeffreson/ETGs/lowM-output/Forces_199_ETG-lowM_T2.0e+04_avir2.0e+00.pkl', '/n/holystore01/LABS/itc_lab/Users/sjeffreson/ETGs/lowM-output/Forces_224_ETG-lowM_T2.0e+04_avir2.0e+00.pkl', '/n/holystore01/LABS/itc_lab/Users/sjeffreson/ETGs/lowM-output/Forces_249_ETG-lowM_T2.0e+04_avir2.0e+00.pkl', '/n/holystore01/LABS/itc_lab/Users/sjeffreson/ETGs/lowM-output/Forces_274_ETG-lowM_T2.0e+04_avir2.0e+00.pkl', '/n/holystore01/LABS/itc_lab/Users/sjeffreson/ETGs/lowM-output/Forces_299_ETG-lowM_T2.0e+04_avir2.0e+00.pkl', '/n/holystore01/LABS/itc_lab/Users/sjeffreson/ETGs/lowM-output/Forces_324_ETG-lowM_T2.0e+04_avir2.0e+00.pkl', '/n/holystore01/LABS/itc_lab/Users/sjeffreson/ETGs/lowM-output/Forces_349_ETG-lowM_T2.0e+04_avir2.0e+00.pkl', '/n/holystore01/LABS/itc_lab/Users/sjeffreson/ETGs/lowM-output/Forces_374_ETG-lowM_T2.0e+04_avir2.0e+00.pkl', '/n/holystore01/LABS/itc_lab/Users/sjeffreson/ETGs/lowM-output/Forces_399_ETG-lowM_T2.0e+04_avir2.0e+00.pkl']\n",
      "['/n/holystore01/LABS/itc_lab/Users/sjeffreson/ETGs/lowM-output/allgas_124_ETG-lowM.pkl', '/n/holystore01/LABS/itc_lab/Users/sjeffreson/ETGs/lowM-output/allgas_149_ETG-lowM.pkl', '/n/holystore01/LABS/itc_lab/Users/sjeffreson/ETGs/lowM-output/allgas_174_ETG-lowM.pkl', '/n/holystore01/LABS/itc_lab/Users/sjeffreson/ETGs/lowM-output/allgas_199_ETG-lowM.pkl', '/n/holystore01/LABS/itc_lab/Users/sjeffreson/ETGs/lowM-output/allgas_224_ETG-lowM.pkl', '/n/holystore01/LABS/itc_lab/Users/sjeffreson/ETGs/lowM-output/allgas_249_ETG-lowM.pkl', '/n/holystore01/LABS/itc_lab/Users/sjeffreson/ETGs/lowM-output/allgas_274_ETG-lowM.pkl', '/n/holystore01/LABS/itc_lab/Users/sjeffreson/ETGs/lowM-output/allgas_299_ETG-lowM.pkl', '/n/holystore01/LABS/itc_lab/Users/sjeffreson/ETGs/lowM-output/allgas_324_ETG-lowM.pkl', '/n/holystore01/LABS/itc_lab/Users/sjeffreson/ETGs/lowM-output/allgas_349_ETG-lowM.pkl', '/n/holystore01/LABS/itc_lab/Users/sjeffreson/ETGs/lowM-output/allgas_374_ETG-lowM.pkl', '/n/holystore01/LABS/itc_lab/Users/sjeffreson/ETGs/lowM-output/allgas_399_ETG-lowM.pkl']\n",
      "['/n/holystore01/LABS/itc_lab/Users/sjeffreson/ETGs/lowM-output/coolgas_124_ETG-lowM_T2.0e+04_avir2.0e+00.pkl', '/n/holystore01/LABS/itc_lab/Users/sjeffreson/ETGs/lowM-output/coolgas_149_ETG-lowM_T2.0e+04_avir2.0e+00.pkl', '/n/holystore01/LABS/itc_lab/Users/sjeffreson/ETGs/lowM-output/coolgas_174_ETG-lowM_T2.0e+04_avir2.0e+00.pkl', '/n/holystore01/LABS/itc_lab/Users/sjeffreson/ETGs/lowM-output/coolgas_199_ETG-lowM_T2.0e+04_avir2.0e+00.pkl', '/n/holystore01/LABS/itc_lab/Users/sjeffreson/ETGs/lowM-output/coolgas_224_ETG-lowM_T2.0e+04_avir2.0e+00.pkl', '/n/holystore01/LABS/itc_lab/Users/sjeffreson/ETGs/lowM-output/coolgas_249_ETG-lowM_T2.0e+04_avir2.0e+00.pkl', '/n/holystore01/LABS/itc_lab/Users/sjeffreson/ETGs/lowM-output/coolgas_274_ETG-lowM_T2.0e+04_avir2.0e+00.pkl', '/n/holystore01/LABS/itc_lab/Users/sjeffreson/ETGs/lowM-output/coolgas_299_ETG-lowM_T2.0e+04_avir2.0e+00.pkl', '/n/holystore01/LABS/itc_lab/Users/sjeffreson/ETGs/lowM-output/coolgas_324_ETG-lowM_T2.0e+04_avir2.0e+00.pkl', '/n/holystore01/LABS/itc_lab/Users/sjeffreson/ETGs/lowM-output/coolgas_349_ETG-lowM_T2.0e+04_avir2.0e+00.pkl', '/n/holystore01/LABS/itc_lab/Users/sjeffreson/ETGs/lowM-output/coolgas_374_ETG-lowM_T2.0e+04_avir2.0e+00.pkl', '/n/holystore01/LABS/itc_lab/Users/sjeffreson/ETGs/lowM-output/coolgas_399_ETG-lowM_T2.0e+04_avir2.0e+00.pkl']\n",
      "['/n/holystore01/LABS/itc_lab/Users/sjeffreson/ETGs/lowM-output/voldens_124_ETG-lowM.pkl', '/n/holystore01/LABS/itc_lab/Users/sjeffreson/ETGs/lowM-output/voldens_149_ETG-lowM.pkl', '/n/holystore01/LABS/itc_lab/Users/sjeffreson/ETGs/lowM-output/voldens_174_ETG-lowM.pkl', '/n/holystore01/LABS/itc_lab/Users/sjeffreson/ETGs/lowM-output/voldens_199_ETG-lowM.pkl', '/n/holystore01/LABS/itc_lab/Users/sjeffreson/ETGs/lowM-output/voldens_224_ETG-lowM.pkl', '/n/holystore01/LABS/itc_lab/Users/sjeffreson/ETGs/lowM-output/voldens_249_ETG-lowM.pkl', '/n/holystore01/LABS/itc_lab/Users/sjeffreson/ETGs/lowM-output/voldens_274_ETG-lowM.pkl', '/n/holystore01/LABS/itc_lab/Users/sjeffreson/ETGs/lowM-output/voldens_299_ETG-lowM.pkl', '/n/holystore01/LABS/itc_lab/Users/sjeffreson/ETGs/lowM-output/voldens_324_ETG-lowM.pkl', '/n/holystore01/LABS/itc_lab/Users/sjeffreson/ETGs/lowM-output/voldens_349_ETG-lowM.pkl', '/n/holystore01/LABS/itc_lab/Users/sjeffreson/ETGs/lowM-output/voldens_374_ETG-lowM.pkl', '/n/holystore01/LABS/itc_lab/Users/sjeffreson/ETGs/lowM-output/voldens_399_ETG-lowM.pkl']\n",
      "['/n/holystore01/LABS/itc_lab/Users/sjeffreson/ETGs/lowM-output/star_voldens_124_ETG-lowM.pkl', '/n/holystore01/LABS/itc_lab/Users/sjeffreson/ETGs/lowM-output/star_voldens_149_ETG-lowM.pkl', '/n/holystore01/LABS/itc_lab/Users/sjeffreson/ETGs/lowM-output/star_voldens_174_ETG-lowM.pkl', '/n/holystore01/LABS/itc_lab/Users/sjeffreson/ETGs/lowM-output/star_voldens_199_ETG-lowM.pkl', '/n/holystore01/LABS/itc_lab/Users/sjeffreson/ETGs/lowM-output/star_voldens_224_ETG-lowM.pkl', '/n/holystore01/LABS/itc_lab/Users/sjeffreson/ETGs/lowM-output/star_voldens_249_ETG-lowM.pkl', '/n/holystore01/LABS/itc_lab/Users/sjeffreson/ETGs/lowM-output/star_voldens_274_ETG-lowM.pkl', '/n/holystore01/LABS/itc_lab/Users/sjeffreson/ETGs/lowM-output/star_voldens_299_ETG-lowM.pkl', '/n/holystore01/LABS/itc_lab/Users/sjeffreson/ETGs/lowM-output/star_voldens_324_ETG-lowM.pkl', '/n/holystore01/LABS/itc_lab/Users/sjeffreson/ETGs/lowM-output/star_voldens_349_ETG-lowM.pkl', '/n/holystore01/LABS/itc_lab/Users/sjeffreson/ETGs/lowM-output/star_voldens_374_ETG-lowM.pkl', '/n/holystore01/LABS/itc_lab/Users/sjeffreson/ETGs/lowM-output/star_voldens_399_ETG-lowM.pkl']\n",
      "['/n/holystore01/LABS/itc_lab/Users/sjeffreson/ETGs/medM-output/Forces_124_ETG-medM_T2.0e+04_avir2.0e+00.pkl', '/n/holystore01/LABS/itc_lab/Users/sjeffreson/ETGs/medM-output/Forces_149_ETG-medM_T2.0e+04_avir2.0e+00.pkl', '/n/holystore01/LABS/itc_lab/Users/sjeffreson/ETGs/medM-output/Forces_174_ETG-medM_T2.0e+04_avir2.0e+00.pkl', '/n/holystore01/LABS/itc_lab/Users/sjeffreson/ETGs/medM-output/Forces_199_ETG-medM_T2.0e+04_avir2.0e+00.pkl', '/n/holystore01/LABS/itc_lab/Users/sjeffreson/ETGs/medM-output/Forces_224_ETG-medM_T2.0e+04_avir2.0e+00.pkl', '/n/holystore01/LABS/itc_lab/Users/sjeffreson/ETGs/medM-output/Forces_249_ETG-medM_T2.0e+04_avir2.0e+00.pkl', '/n/holystore01/LABS/itc_lab/Users/sjeffreson/ETGs/medM-output/Forces_274_ETG-medM_T2.0e+04_avir2.0e+00.pkl', '/n/holystore01/LABS/itc_lab/Users/sjeffreson/ETGs/medM-output/Forces_299_ETG-medM_T2.0e+04_avir2.0e+00.pkl', '/n/holystore01/LABS/itc_lab/Users/sjeffreson/ETGs/medM-output/Forces_324_ETG-medM_T2.0e+04_avir2.0e+00.pkl', '/n/holystore01/LABS/itc_lab/Users/sjeffreson/ETGs/medM-output/Forces_349_ETG-medM_T2.0e+04_avir2.0e+00.pkl', '/n/holystore01/LABS/itc_lab/Users/sjeffreson/ETGs/medM-output/Forces_374_ETG-medM_T2.0e+04_avir2.0e+00.pkl', '/n/holystore01/LABS/itc_lab/Users/sjeffreson/ETGs/medM-output/Forces_399_ETG-medM_T2.0e+04_avir2.0e+00.pkl']\n",
      "['/n/holystore01/LABS/itc_lab/Users/sjeffreson/ETGs/medM-output/allgas_124_ETG-medM.pkl', '/n/holystore01/LABS/itc_lab/Users/sjeffreson/ETGs/medM-output/allgas_149_ETG-medM.pkl', '/n/holystore01/LABS/itc_lab/Users/sjeffreson/ETGs/medM-output/allgas_174_ETG-medM.pkl', '/n/holystore01/LABS/itc_lab/Users/sjeffreson/ETGs/medM-output/allgas_199_ETG-medM.pkl', '/n/holystore01/LABS/itc_lab/Users/sjeffreson/ETGs/medM-output/allgas_224_ETG-medM.pkl', '/n/holystore01/LABS/itc_lab/Users/sjeffreson/ETGs/medM-output/allgas_249_ETG-medM.pkl', '/n/holystore01/LABS/itc_lab/Users/sjeffreson/ETGs/medM-output/allgas_274_ETG-medM.pkl', '/n/holystore01/LABS/itc_lab/Users/sjeffreson/ETGs/medM-output/allgas_299_ETG-medM.pkl', '/n/holystore01/LABS/itc_lab/Users/sjeffreson/ETGs/medM-output/allgas_324_ETG-medM.pkl', '/n/holystore01/LABS/itc_lab/Users/sjeffreson/ETGs/medM-output/allgas_349_ETG-medM.pkl', '/n/holystore01/LABS/itc_lab/Users/sjeffreson/ETGs/medM-output/allgas_374_ETG-medM.pkl', '/n/holystore01/LABS/itc_lab/Users/sjeffreson/ETGs/medM-output/allgas_399_ETG-medM.pkl']\n",
      "['/n/holystore01/LABS/itc_lab/Users/sjeffreson/ETGs/medM-output/coolgas_124_ETG-medM_T2.0e+04_avir2.0e+00.pkl', '/n/holystore01/LABS/itc_lab/Users/sjeffreson/ETGs/medM-output/coolgas_149_ETG-medM_T2.0e+04_avir2.0e+00.pkl', '/n/holystore01/LABS/itc_lab/Users/sjeffreson/ETGs/medM-output/coolgas_174_ETG-medM_T2.0e+04_avir2.0e+00.pkl', '/n/holystore01/LABS/itc_lab/Users/sjeffreson/ETGs/medM-output/coolgas_199_ETG-medM_T2.0e+04_avir2.0e+00.pkl', '/n/holystore01/LABS/itc_lab/Users/sjeffreson/ETGs/medM-output/coolgas_224_ETG-medM_T2.0e+04_avir2.0e+00.pkl', '/n/holystore01/LABS/itc_lab/Users/sjeffreson/ETGs/medM-output/coolgas_249_ETG-medM_T2.0e+04_avir2.0e+00.pkl', '/n/holystore01/LABS/itc_lab/Users/sjeffreson/ETGs/medM-output/coolgas_274_ETG-medM_T2.0e+04_avir2.0e+00.pkl', '/n/holystore01/LABS/itc_lab/Users/sjeffreson/ETGs/medM-output/coolgas_299_ETG-medM_T2.0e+04_avir2.0e+00.pkl', '/n/holystore01/LABS/itc_lab/Users/sjeffreson/ETGs/medM-output/coolgas_324_ETG-medM_T2.0e+04_avir2.0e+00.pkl', '/n/holystore01/LABS/itc_lab/Users/sjeffreson/ETGs/medM-output/coolgas_349_ETG-medM_T2.0e+04_avir2.0e+00.pkl', '/n/holystore01/LABS/itc_lab/Users/sjeffreson/ETGs/medM-output/coolgas_374_ETG-medM_T2.0e+04_avir2.0e+00.pkl', '/n/holystore01/LABS/itc_lab/Users/sjeffreson/ETGs/medM-output/coolgas_399_ETG-medM_T2.0e+04_avir2.0e+00.pkl']\n",
      "['/n/holystore01/LABS/itc_lab/Users/sjeffreson/ETGs/medM-output/voldens_124_ETG-medM.pkl', '/n/holystore01/LABS/itc_lab/Users/sjeffreson/ETGs/medM-output/voldens_149_ETG-medM.pkl', '/n/holystore01/LABS/itc_lab/Users/sjeffreson/ETGs/medM-output/voldens_174_ETG-medM.pkl', '/n/holystore01/LABS/itc_lab/Users/sjeffreson/ETGs/medM-output/voldens_199_ETG-medM.pkl', '/n/holystore01/LABS/itc_lab/Users/sjeffreson/ETGs/medM-output/voldens_224_ETG-medM.pkl', '/n/holystore01/LABS/itc_lab/Users/sjeffreson/ETGs/medM-output/voldens_249_ETG-medM.pkl', '/n/holystore01/LABS/itc_lab/Users/sjeffreson/ETGs/medM-output/voldens_274_ETG-medM.pkl', '/n/holystore01/LABS/itc_lab/Users/sjeffreson/ETGs/medM-output/voldens_299_ETG-medM.pkl', '/n/holystore01/LABS/itc_lab/Users/sjeffreson/ETGs/medM-output/voldens_324_ETG-medM.pkl', '/n/holystore01/LABS/itc_lab/Users/sjeffreson/ETGs/medM-output/voldens_349_ETG-medM.pkl', '/n/holystore01/LABS/itc_lab/Users/sjeffreson/ETGs/medM-output/voldens_374_ETG-medM.pkl', '/n/holystore01/LABS/itc_lab/Users/sjeffreson/ETGs/medM-output/voldens_399_ETG-medM.pkl']\n",
      "['/n/holystore01/LABS/itc_lab/Users/sjeffreson/ETGs/medM-output/star_voldens_124_ETG-medM.pkl', '/n/holystore01/LABS/itc_lab/Users/sjeffreson/ETGs/medM-output/star_voldens_149_ETG-medM.pkl', '/n/holystore01/LABS/itc_lab/Users/sjeffreson/ETGs/medM-output/star_voldens_174_ETG-medM.pkl', '/n/holystore01/LABS/itc_lab/Users/sjeffreson/ETGs/medM-output/star_voldens_199_ETG-medM.pkl', '/n/holystore01/LABS/itc_lab/Users/sjeffreson/ETGs/medM-output/star_voldens_224_ETG-medM.pkl', '/n/holystore01/LABS/itc_lab/Users/sjeffreson/ETGs/medM-output/star_voldens_249_ETG-medM.pkl', '/n/holystore01/LABS/itc_lab/Users/sjeffreson/ETGs/medM-output/star_voldens_274_ETG-medM.pkl', '/n/holystore01/LABS/itc_lab/Users/sjeffreson/ETGs/medM-output/star_voldens_299_ETG-medM.pkl', '/n/holystore01/LABS/itc_lab/Users/sjeffreson/ETGs/medM-output/star_voldens_324_ETG-medM.pkl', '/n/holystore01/LABS/itc_lab/Users/sjeffreson/ETGs/medM-output/star_voldens_349_ETG-medM.pkl', '/n/holystore01/LABS/itc_lab/Users/sjeffreson/ETGs/medM-output/star_voldens_374_ETG-medM.pkl', '/n/holystore01/LABS/itc_lab/Users/sjeffreson/ETGs/medM-output/star_voldens_399_ETG-medM.pkl']\n",
      "['/n/holystore01/LABS/itc_lab/Users/sjeffreson/ETGs/hiM-output/Forces_124_ETG-hiM_T2.0e+04_avir2.0e+00.pkl', '/n/holystore01/LABS/itc_lab/Users/sjeffreson/ETGs/hiM-output/Forces_149_ETG-hiM_T2.0e+04_avir2.0e+00.pkl', '/n/holystore01/LABS/itc_lab/Users/sjeffreson/ETGs/hiM-output/Forces_174_ETG-hiM_T2.0e+04_avir2.0e+00.pkl', '/n/holystore01/LABS/itc_lab/Users/sjeffreson/ETGs/hiM-output/Forces_199_ETG-hiM_T2.0e+04_avir2.0e+00.pkl', '/n/holystore01/LABS/itc_lab/Users/sjeffreson/ETGs/hiM-output/Forces_224_ETG-hiM_T2.0e+04_avir2.0e+00.pkl', '/n/holystore01/LABS/itc_lab/Users/sjeffreson/ETGs/hiM-output/Forces_249_ETG-hiM_T2.0e+04_avir2.0e+00.pkl', '/n/holystore01/LABS/itc_lab/Users/sjeffreson/ETGs/hiM-output/Forces_274_ETG-hiM_T2.0e+04_avir2.0e+00.pkl', '/n/holystore01/LABS/itc_lab/Users/sjeffreson/ETGs/hiM-output/Forces_299_ETG-hiM_T2.0e+04_avir2.0e+00.pkl', '/n/holystore01/LABS/itc_lab/Users/sjeffreson/ETGs/hiM-output/Forces_324_ETG-hiM_T2.0e+04_avir2.0e+00.pkl', '/n/holystore01/LABS/itc_lab/Users/sjeffreson/ETGs/hiM-output/Forces_349_ETG-hiM_T2.0e+04_avir2.0e+00.pkl', '/n/holystore01/LABS/itc_lab/Users/sjeffreson/ETGs/hiM-output/Forces_374_ETG-hiM_T2.0e+04_avir2.0e+00.pkl', '/n/holystore01/LABS/itc_lab/Users/sjeffreson/ETGs/hiM-output/Forces_399_ETG-hiM_T2.0e+04_avir2.0e+00.pkl']\n",
      "['/n/holystore01/LABS/itc_lab/Users/sjeffreson/ETGs/hiM-output/allgas_124_ETG-hiM.pkl', '/n/holystore01/LABS/itc_lab/Users/sjeffreson/ETGs/hiM-output/allgas_149_ETG-hiM.pkl', '/n/holystore01/LABS/itc_lab/Users/sjeffreson/ETGs/hiM-output/allgas_174_ETG-hiM.pkl', '/n/holystore01/LABS/itc_lab/Users/sjeffreson/ETGs/hiM-output/allgas_199_ETG-hiM.pkl', '/n/holystore01/LABS/itc_lab/Users/sjeffreson/ETGs/hiM-output/allgas_224_ETG-hiM.pkl', '/n/holystore01/LABS/itc_lab/Users/sjeffreson/ETGs/hiM-output/allgas_249_ETG-hiM.pkl', '/n/holystore01/LABS/itc_lab/Users/sjeffreson/ETGs/hiM-output/allgas_274_ETG-hiM.pkl', '/n/holystore01/LABS/itc_lab/Users/sjeffreson/ETGs/hiM-output/allgas_299_ETG-hiM.pkl', '/n/holystore01/LABS/itc_lab/Users/sjeffreson/ETGs/hiM-output/allgas_324_ETG-hiM.pkl', '/n/holystore01/LABS/itc_lab/Users/sjeffreson/ETGs/hiM-output/allgas_349_ETG-hiM.pkl', '/n/holystore01/LABS/itc_lab/Users/sjeffreson/ETGs/hiM-output/allgas_374_ETG-hiM.pkl', '/n/holystore01/LABS/itc_lab/Users/sjeffreson/ETGs/hiM-output/allgas_399_ETG-hiM.pkl']\n",
      "['/n/holystore01/LABS/itc_lab/Users/sjeffreson/ETGs/hiM-output/coolgas_124_ETG-hiM_T2.0e+04_avir2.0e+00.pkl', '/n/holystore01/LABS/itc_lab/Users/sjeffreson/ETGs/hiM-output/coolgas_149_ETG-hiM_T2.0e+04_avir2.0e+00.pkl', '/n/holystore01/LABS/itc_lab/Users/sjeffreson/ETGs/hiM-output/coolgas_174_ETG-hiM_T2.0e+04_avir2.0e+00.pkl', '/n/holystore01/LABS/itc_lab/Users/sjeffreson/ETGs/hiM-output/coolgas_199_ETG-hiM_T2.0e+04_avir2.0e+00.pkl', '/n/holystore01/LABS/itc_lab/Users/sjeffreson/ETGs/hiM-output/coolgas_224_ETG-hiM_T2.0e+04_avir2.0e+00.pkl', '/n/holystore01/LABS/itc_lab/Users/sjeffreson/ETGs/hiM-output/coolgas_249_ETG-hiM_T2.0e+04_avir2.0e+00.pkl', '/n/holystore01/LABS/itc_lab/Users/sjeffreson/ETGs/hiM-output/coolgas_274_ETG-hiM_T2.0e+04_avir2.0e+00.pkl', '/n/holystore01/LABS/itc_lab/Users/sjeffreson/ETGs/hiM-output/coolgas_299_ETG-hiM_T2.0e+04_avir2.0e+00.pkl', '/n/holystore01/LABS/itc_lab/Users/sjeffreson/ETGs/hiM-output/coolgas_324_ETG-hiM_T2.0e+04_avir2.0e+00.pkl', '/n/holystore01/LABS/itc_lab/Users/sjeffreson/ETGs/hiM-output/coolgas_349_ETG-hiM_T2.0e+04_avir2.0e+00.pkl', '/n/holystore01/LABS/itc_lab/Users/sjeffreson/ETGs/hiM-output/coolgas_374_ETG-hiM_T2.0e+04_avir2.0e+00.pkl', '/n/holystore01/LABS/itc_lab/Users/sjeffreson/ETGs/hiM-output/coolgas_399_ETG-hiM_T2.0e+04_avir2.0e+00.pkl']\n",
      "['/n/holystore01/LABS/itc_lab/Users/sjeffreson/ETGs/hiM-output/voldens_124_ETG-hiM.pkl', '/n/holystore01/LABS/itc_lab/Users/sjeffreson/ETGs/hiM-output/voldens_149_ETG-hiM.pkl', '/n/holystore01/LABS/itc_lab/Users/sjeffreson/ETGs/hiM-output/voldens_174_ETG-hiM.pkl', '/n/holystore01/LABS/itc_lab/Users/sjeffreson/ETGs/hiM-output/voldens_199_ETG-hiM.pkl', '/n/holystore01/LABS/itc_lab/Users/sjeffreson/ETGs/hiM-output/voldens_224_ETG-hiM.pkl', '/n/holystore01/LABS/itc_lab/Users/sjeffreson/ETGs/hiM-output/voldens_249_ETG-hiM.pkl', '/n/holystore01/LABS/itc_lab/Users/sjeffreson/ETGs/hiM-output/voldens_274_ETG-hiM.pkl', '/n/holystore01/LABS/itc_lab/Users/sjeffreson/ETGs/hiM-output/voldens_299_ETG-hiM.pkl', '/n/holystore01/LABS/itc_lab/Users/sjeffreson/ETGs/hiM-output/voldens_324_ETG-hiM.pkl', '/n/holystore01/LABS/itc_lab/Users/sjeffreson/ETGs/hiM-output/voldens_349_ETG-hiM.pkl', '/n/holystore01/LABS/itc_lab/Users/sjeffreson/ETGs/hiM-output/voldens_374_ETG-hiM.pkl', '/n/holystore01/LABS/itc_lab/Users/sjeffreson/ETGs/hiM-output/voldens_399_ETG-hiM.pkl']\n",
      "['/n/holystore01/LABS/itc_lab/Users/sjeffreson/ETGs/hiM-output/star_voldens_124_ETG-hiM.pkl', '/n/holystore01/LABS/itc_lab/Users/sjeffreson/ETGs/hiM-output/star_voldens_149_ETG-hiM.pkl', '/n/holystore01/LABS/itc_lab/Users/sjeffreson/ETGs/hiM-output/star_voldens_174_ETG-hiM.pkl', '/n/holystore01/LABS/itc_lab/Users/sjeffreson/ETGs/hiM-output/star_voldens_199_ETG-hiM.pkl', '/n/holystore01/LABS/itc_lab/Users/sjeffreson/ETGs/hiM-output/star_voldens_224_ETG-hiM.pkl', '/n/holystore01/LABS/itc_lab/Users/sjeffreson/ETGs/hiM-output/star_voldens_249_ETG-hiM.pkl', '/n/holystore01/LABS/itc_lab/Users/sjeffreson/ETGs/hiM-output/star_voldens_274_ETG-hiM.pkl', '/n/holystore01/LABS/itc_lab/Users/sjeffreson/ETGs/hiM-output/star_voldens_299_ETG-hiM.pkl', '/n/holystore01/LABS/itc_lab/Users/sjeffreson/ETGs/hiM-output/star_voldens_324_ETG-hiM.pkl', '/n/holystore01/LABS/itc_lab/Users/sjeffreson/ETGs/hiM-output/star_voldens_349_ETG-hiM.pkl', '/n/holystore01/LABS/itc_lab/Users/sjeffreson/ETGs/hiM-output/star_voldens_374_ETG-hiM.pkl', '/n/holystore01/LABS/itc_lab/Users/sjeffreson/ETGs/hiM-output/star_voldens_399_ETG-hiM.pkl']\n",
      "['/n/holystore01/LABS/itc_lab/Users/sjeffreson/NGC300/Forces_740_NGC300_T2.0e+04_avir2.0e+00.pkl', '/n/holystore01/LABS/itc_lab/Users/sjeffreson/NGC300/Forces_800_NGC300_T2.0e+04_avir2.0e+00.pkl']\n",
      "['/n/holystore01/LABS/itc_lab/Users/sjeffreson/NGC300/allgas_740_NGC300.pkl', '/n/holystore01/LABS/itc_lab/Users/sjeffreson/NGC300/allgas_800_NGC300.pkl']\n",
      "['/n/holystore01/LABS/itc_lab/Users/sjeffreson/NGC300/coolgas_740_NGC300_T2.0e+04_avir2.0e+00.pkl', '/n/holystore01/LABS/itc_lab/Users/sjeffreson/NGC300/coolgas_800_NGC300_T2.0e+04_avir2.0e+00.pkl']\n",
      "['/n/holystore01/LABS/itc_lab/Users/sjeffreson/NGC300/voldens_740_NGC300.pkl', '/n/holystore01/LABS/itc_lab/Users/sjeffreson/NGC300/voldens_800_NGC300.pkl']\n",
      "['/n/holystore01/LABS/itc_lab/Users/sjeffreson/NGC300/star_voldens_740_NGC300.pkl', '/n/holystore01/LABS/itc_lab/Users/sjeffreson/NGC300/star_voldens_800_NGC300.pkl']\n",
      "['/n/holystore01/LABS/itc_lab/Users/sjeffreson/MW-tracers/Forces_600_MW_T2.0e+04_avir2.0e+00.pkl']\n",
      "['/n/holystore01/LABS/itc_lab/Users/sjeffreson/MW-tracers/allgas_600_MW.pkl']\n",
      "['/n/holystore01/LABS/itc_lab/Users/sjeffreson/MW-tracers/coolgas_600_MW_T2.0e+04_avir2.0e+00.pkl']\n",
      "['/n/holystore01/LABS/itc_lab/Users/sjeffreson/MW-tracers/voldens_600_MW.pkl']\n",
      "['/n/holystore01/LABS/itc_lab/Users/sjeffreson/MW-tracers/star_voldens_600_MW.pkl']\n"
     ]
    }
   ],
   "source": [
    "alldata = {\n",
    "    'galaxy': [],\n",
    "    'weight': [],\n",
    "    'rotcurve': [],\n",
    "    'kappa': [],\n",
    "    'gas_surfdens': [],\n",
    "    'gas_surfdens_cw': [],\n",
    "    'star_surfdens': [],\n",
    "    'SFR_surfdens': [],\n",
    "    'dm_voldens': [],\n",
    "    'gas_voldens': [],\n",
    "    'star_voldens': [],\n",
    "    'H2_mass': [],\n",
    "    'HI_mass': [],\n",
    "    'H2HI_mass': [],\n",
    "    'gas_voldens_midplane': [],\n",
    "    'gas_voldens_midplane_cw': [],\n",
    "    'star_voldens_midplane': [],\n",
    "    'veldisp_midplane': [],\n",
    "    'Pturb': [],\n",
    "    'Ptherm': [],\n",
    "    'R/Router': [],\n",
    "    #'time': [], ? I'm not sure what reference time to use here, think about this\n",
    "}\n",
    "\n",
    "for tag, tagdir, Rgrid, xymax in zip(tags, tagdirs, Rgrids, xymaxs):\n",
    "    # weights from Forces\n",
    "    arrays = glob.glob(str(tagdir) + \"/Forces_*.pkl\")\n",
    "    arraynos = [int(array.rsplit('Forces_')[1].rsplit('_'+tag)[0]) for array in arrays]\n",
    "    arrays = [array for _, array in sorted(zip(arraynos, arrays))]\n",
    "    print(arrays)\n",
    "    for array in arrays:\n",
    "        with open(array, \"rb\") as f:\n",
    "            props_dict = pickle.load(f)\n",
    "        Rgrid_3d = np.repeat(Rgrid[:, :, np.newaxis], props_dict['weight'].shape[2], axis=2) # repeat Rgrid along time axis\n",
    "        cnd_R = (Rgrid_3d <= xymax*ah.kpc_to_cm)\n",
    "        alldata['weight'].extend(list(np.ravel(props_dict['weight'][cnd_R])))\n",
    "        alldata['R/Router'].extend(list(np.ravel(Rgrid_3d[cnd_R]/(xymax*ah.kpc_to_cm)))) # ensure same number of repetitions\n",
    "        alldata['galaxy'].extend([tag]*np.ravel(Rgrid_3d[cnd_R]).size) # galaxy names\n",
    "\n",
    "    # all-gas properties\n",
    "    arrays = glob.glob(str(tagdir) + \"/allgas_*.pkl\")\n",
    "    arraynos = [int(array.rsplit('allgas_')[1].rsplit('_'+tag)[0]) for array in arrays]\n",
    "    arrays = [array for _, array in sorted(zip(arraynos, arrays))]\n",
    "    print(arrays)\n",
    "    for array in arrays:\n",
    "        with open(array, \"rb\") as f:\n",
    "            props_dict = pickle.load(f)\n",
    "        Rgrid_3d = np.repeat(Rgrid[:, :, np.newaxis], props_dict['rotcurve'].shape[2], axis=2) # repeat Rgrid along time axis\n",
    "        cnd_R = (Rgrid_3d <= xymax*ah.kpc_to_cm)\n",
    "        alldata['rotcurve'].extend(list(np.ravel(props_dict['rotcurve'][cnd_R])))\n",
    "        alldata['kappa'].extend(list(np.ravel(props_dict['kappa'][cnd_R])))\n",
    "        alldata['SFR_surfdens'].extend(list(np.ravel(props_dict['SFR_surfdens'][cnd_R])))\n",
    "        alldata['H2_mass'].extend(list(np.ravel(props_dict['H2_frac'][cnd_R] * props_dict['gas_surfdens'][cnd_R])))\n",
    "        alldata['HI_mass'].extend(list(np.ravel(props_dict['HI_frac'][cnd_R] * props_dict['gas_surfdens'][cnd_R])))\n",
    "        alldata['H2HI_mass'].extend(list(np.ravel((props_dict['H2_frac'][cnd_R] + props_dict['HI_frac'][cnd_R]) * props_dict['gas_surfdens'][cnd_R])))\n",
    "        alldata['gas_surfdens'].extend(list(np.ravel(props_dict['gas_surfdens'][cnd_R])))\n",
    "        alldata['star_surfdens'].extend(list(np.ravel(props_dict['star_surfdens'][cnd_R])))\n",
    "        alldata['gas_voldens_midplane'].extend(list(np.ravel(props_dict['gas_voldens_midplane'][cnd_R])))\n",
    "        alldata['star_voldens_midplane'].extend(list(np.ravel(props_dict['star_voldens_midplane'][cnd_R])))\n",
    "\n",
    "    # cool-warm gas properties\n",
    "    arrays = glob.glob(str(tagdir) + \"/coolgas_*.pkl\")\n",
    "    arraynos = [int(array.rsplit('coolgas_')[1].rsplit('_'+tag)[0]) for array in arrays]\n",
    "    arrays = [array for _, array in sorted(zip(arraynos, arrays))]\n",
    "    print(arrays)\n",
    "    for array in arrays:\n",
    "        with open(array, \"rb\") as f:\n",
    "            props_dict = pickle.load(f)\n",
    "        Rgrid_3d = np.repeat(Rgrid[:, :, np.newaxis], props_dict['gas_surfdens'].shape[2], axis=2) # repeat Rgrid along time axis\n",
    "        cnd_R = (Rgrid_3d <= xymax*ah.kpc_to_cm)\n",
    "        alldata['gas_surfdens_cw'].extend(list(np.ravel(props_dict['gas_surfdens'][cnd_R])))\n",
    "        alldata['gas_voldens_midplane_cw'].extend(list(np.ravel(props_dict['gas_voldens_midplane'][cnd_R])))\n",
    "        alldata['veldisp_midplane'].extend(list(np.ravel(props_dict['veldisp_midplane'][cnd_R])))\n",
    "        alldata['Pturb'].extend(list(np.ravel(props_dict['Pturb'][cnd_R])))\n",
    "        alldata['Ptherm'].extend(list(np.ravel(props_dict['Ptherm'][cnd_R])))\n",
    "\n",
    "    # dark matter and gas volume densities\n",
    "    arrays = glob.glob(str(tagdir) + \"/voldens_*.pkl\")\n",
    "    arraynos = [int(array.rsplit('voldens_')[1].rsplit('_'+tag)[0]) for array in arrays]\n",
    "    arrays = [array for _, array in sorted(zip(arraynos, arrays))]\n",
    "    print(arrays)\n",
    "    for array in arrays:\n",
    "        with open(array, \"rb\") as f:\n",
    "            props_dict = pickle.load(f)\n",
    "        Rgrid_3d = np.repeat(Rgrid[:, :, np.newaxis], props_dict['dm_voldens'].shape[2], axis=2)\n",
    "        cnd_R = (Rgrid_3d <= xymax*ah.kpc_to_cm)\n",
    "        alldata['dm_voldens'].extend(list(np.ravel(props_dict['dm_voldens'][cnd_R])))\n",
    "        alldata['gas_voldens'].extend(list(np.ravel(props_dict['gas_voldens'][cnd_R])))\n",
    "\n",
    "    # star volume densities\n",
    "    arrays = glob.glob(str(tagdir) + \"/star_voldens_*.pkl\")\n",
    "    arraynos = [int(array.rsplit('star_voldens_')[1].rsplit('_'+tag)[0]) for array in arrays]\n",
    "    arrays = [array for _, array in sorted(zip(arraynos, arrays))]\n",
    "    print(arrays)\n",
    "    for array in arrays:\n",
    "        with open(array, \"rb\") as f:\n",
    "            props_dict = pickle.load(f)\n",
    "        Rgrid_3d = np.repeat(Rgrid[:, :, np.newaxis], props_dict['star_voldens'].shape[2], axis=2)\n",
    "        cnd_R = (Rgrid_3d <= xymax*ah.kpc_to_cm)\n",
    "        alldata['star_voldens'].extend(list(np.ravel(props_dict['star_voldens'][cnd_R])))"
   ]
  },
  {
   "cell_type": "code",
   "execution_count": 72,
   "id": "22b12124-0526-4843-a237-07c92c325e7e",
   "metadata": {},
   "outputs": [
    {
     "name": "stdout",
     "output_type": "stream",
     "text": [
      "['galaxy', 'weight', 'rotcurve', 'kappa', 'gas_surfdens', 'gas_surfdens_cw', 'star_surfdens', 'SFR_surfdens', 'dm_voldens', 'gas_voldens', 'star_voldens', 'H2_mass', 'HI_mass', 'H2HI_mass', 'gas_voldens_midplane', 'gas_voldens_midplane_cw', 'star_voldens_midplane', 'veldisp_midplane', 'Pturb', 'Ptherm', 'R/Router']\n",
      "[3251496, 3251496, 3251496, 3251496, 3251496, 3251496, 3251496, 3251496, 3251496, 3251496, 3251496, 3251496, 3251496, 3251496, 3251496, 3251496, 3251496, 3251496, 3251496, 3251496, 3251496]\n"
     ]
    }
   ],
   "source": [
    "print([key for key in alldata.keys()])\n",
    "print([len(val) for key, val in alldata.items()])"
   ]
  },
  {
   "cell_type": "code",
   "execution_count": 73,
   "id": "d8febac3-be92-4eb0-b075-8af2b2b7d7ca",
   "metadata": {},
   "outputs": [],
   "source": [
    "df = pd.DataFrame(alldata)"
   ]
  },
  {
   "cell_type": "code",
   "execution_count": 74,
   "id": "1a10e6f2-6e55-4396-ab53-d0c2474c44aa",
   "metadata": {},
   "outputs": [
    {
     "name": "stdout",
     "output_type": "stream",
     "text": [
      "Number of NaN rotcurve elements: 4\n",
      "Number of NaN kappa elements: 906\n"
     ]
    },
    {
     "data": {
      "image/png": "[encoded data removed]",
      "text/plain": [
       "<Figure size 640x480 with 1 Axes>"
      ]
     },
     "metadata": {},
     "output_type": "display_data"
    }
   ],
   "source": [
    "# we only want to calculate properties for the 'cool-warm' ISM as can be defined\n",
    "# in cosmological volume simulations, < 0.13 H/cc and < 20,000K\n",
    "df_filtered = df[df['gas_voldens']/ah.mp_cgs/ah.mu > 0.13]\n",
    "\n",
    "# if cool-warm mid-plane volume density is 0, set Pturb and veldisp to 0 (currently NaN,\n",
    "# but zero makes more sense)\n",
    "df_filtered.loc[df_filtered['gas_voldens_midplane_cw'] == 0, 'Pturb'] = 0\n",
    "df_filtered.loc[df_filtered['gas_voldens_midplane_cw'] == 0, 'veldisp_midplane'] = 0\n",
    "\n",
    "# set all remaining NaN in Pturb and veldisp to zero, because it just means there are too\n",
    "# few cool-warm particles\n",
    "df_filtered.loc[df_filtered['Pturb'].isna(), 'Pturb'] = 0\n",
    "df_filtered.loc[df_filtered['veldisp_midplane'].isna(), 'veldisp_midplane'] = 0\n",
    "\n",
    "# if cool-warm mid-plane volume density is NaN, set it to zero, along with Pturb, veldisp and Ptherm\n",
    "df_filtered.loc[df_filtered['gas_voldens_midplane_cw'].isna(), 'Pturb'] = 0\n",
    "df_filtered.loc[df_filtered['gas_voldens_midplane_cw'].isna(), 'veldisp_midplane'] = 0\n",
    "df_filtered.loc[df_filtered['gas_voldens_midplane_cw'].isna(), 'Ptherm'] = 0\n",
    "df_filtered.loc[df_filtered['gas_voldens_midplane_cw'].isna(), 'gas_voldens_midplane_cw'] = 0\n",
    "\n",
    "# if star voldens at the mid-plane is NaN, it is just zero\n",
    "df_filtered.loc[df_filtered['star_voldens_midplane'].isna(), 'star_voldens_midplane'] = 0\n",
    "\n",
    "# exclude values with rotcurve or kappa is NaN, and print the number of such elements (should be\n",
    "# small and just at the disk outskirts due to edge-effects)\n",
    "print('Number of NaN rotcurve elements:', df_filtered['rotcurve'].isna().sum())\n",
    "print('Number of NaN kappa elements:', df_filtered['kappa'].isna().sum())\n",
    "\n",
    "# plot the R values where kappa is NaN\n",
    "plt.hist(df_filtered['R/Router'][df_filtered['kappa'].isna()], bins=100, log=True)\n",
    "plt.hist(df_filtered['R/Router'][df_filtered['rotcurve'].isna()], bins=100, log=True)\n",
    "plt.xlabel('R/Router')\n",
    "plt.ylabel('Number of NaNs')\n",
    "plt.show()\n",
    "\n",
    "df_filtered = df_filtered.dropna(subset=['rotcurve', 'kappa'])"
   ]
  },
  {
   "cell_type": "code",
   "execution_count": 75,
   "id": "d41d6ee9",
   "metadata": {},
   "outputs": [
    {
     "data": {
      "image/png": "[encoded data removed]",
      "text/plain": [
       "<Figure size 640x480 with 1 Axes>"
      ]
     },
     "metadata": {},
     "output_type": "display_data"
    }
   ],
   "source": [
    "# plot a histogram of all R/Router values\n",
    "plt.hist(df_filtered['R/Router'], bins=100, log=True)\n",
    "plt.xlabel('R/Router')\n",
    "plt.ylabel('Number of elements')\n",
    "plt.show()"
   ]
  },
  {
   "cell_type": "code",
   "execution_count": 76,
   "id": "a2f6fdcb-0117-49db-97f2-a56db00f42d2",
   "metadata": {},
   "outputs": [
    {
     "name": "stdout",
     "output_type": "stream",
     "text": [
      "galaxy                     0\n",
      "weight                     0\n",
      "rotcurve                   0\n",
      "kappa                      0\n",
      "gas_surfdens               0\n",
      "gas_surfdens_cw            0\n",
      "star_surfdens              0\n",
      "SFR_surfdens               0\n",
      "dm_voldens                 0\n",
      "gas_voldens                0\n",
      "star_voldens               0\n",
      "H2_mass                    0\n",
      "HI_mass                    0\n",
      "H2HI_mass                  0\n",
      "gas_voldens_midplane       0\n",
      "gas_voldens_midplane_cw    0\n",
      "star_voldens_midplane      0\n",
      "veldisp_midplane           0\n",
      "Pturb                      0\n",
      "Ptherm                     0\n",
      "R/Router                   0\n",
      "dtype: int64\n",
      "galaxy                     2346184\n",
      "weight                     2346184\n",
      "rotcurve                   2346184\n",
      "kappa                      2346184\n",
      "gas_surfdens               2346184\n",
      "gas_surfdens_cw            2346184\n",
      "star_surfdens              2346184\n",
      "SFR_surfdens               2346184\n",
      "dm_voldens                 2346184\n",
      "gas_voldens                2346184\n",
      "star_voldens               2346184\n",
      "H2_mass                    2346184\n",
      "HI_mass                    2346184\n",
      "H2HI_mass                  2346184\n",
      "gas_voldens_midplane       2346184\n",
      "gas_voldens_midplane_cw    2346184\n",
      "star_voldens_midplane      2346184\n",
      "veldisp_midplane           2346184\n",
      "Pturb                      2346184\n",
      "Ptherm                     2346184\n",
      "R/Router                   2346184\n",
      "dtype: int64\n"
     ]
    }
   ],
   "source": [
    "nan_counts = df_filtered.isna().sum()\n",
    "total_counts = df_filtered.count()\n",
    "print(nan_counts)\n",
    "print(total_counts)"
   ]
  },
  {
   "cell_type": "code",
   "execution_count": 77,
   "id": "a49a60e5",
   "metadata": {},
   "outputs": [
    {
     "data": {
      "image/png": "[encoded data removed]",
      "text/plain": [
       "<Figure size 640x480 with 1 Axes>"
      ]
     },
     "metadata": {},
     "output_type": "display_data"
    }
   ],
   "source": [
    "plt.hist(np.log10((df_filtered['H2HI_mass']-df_filtered['HI_mass'])+1.e-50), bins=100, log=True)\n",
    "plt.hist(np.log10((df_filtered['H2_mass'])+1.e-50), bins=100, log=True, histtype='step')\n",
    "plt.show()"
   ]
  },
  {
   "cell_type": "code",
   "execution_count": 79,
   "id": "81864768",
   "metadata": {},
   "outputs": [
    {
     "name": "stdout",
     "output_type": "stream",
     "text": [
      "galaxy                     0\n",
      "weight                     0\n",
      "rotcurve                   0\n",
      "kappa                      0\n",
      "gas_surfdens               0\n",
      "gas_surfdens_cw            0\n",
      "star_surfdens              0\n",
      "SFR_surfdens               0\n",
      "dm_voldens                 0\n",
      "gas_voldens                0\n",
      "star_voldens               0\n",
      "H2_mass                    0\n",
      "HI_mass                    0\n",
      "H2HI_mass                  0\n",
      "gas_voldens_midplane       0\n",
      "gas_voldens_midplane_cw    0\n",
      "star_voldens_midplane      0\n",
      "veldisp_midplane           0\n",
      "Pturb                      0\n",
      "Ptherm                     0\n",
      "R/Router                   0\n",
      "dtype: int64\n",
      "galaxy                     740718\n",
      "weight                     740718\n",
      "rotcurve                   740718\n",
      "kappa                      740718\n",
      "gas_surfdens               740718\n",
      "gas_surfdens_cw            740718\n",
      "star_surfdens              740718\n",
      "SFR_surfdens               740718\n",
      "dm_voldens                 740718\n",
      "gas_voldens                740718\n",
      "star_voldens               740718\n",
      "H2_mass                    740718\n",
      "HI_mass                    740718\n",
      "H2HI_mass                  740718\n",
      "gas_voldens_midplane       740718\n",
      "gas_voldens_midplane_cw    740718\n",
      "star_voldens_midplane      740718\n",
      "veldisp_midplane           740718\n",
      "Pturb                      740718\n",
      "Ptherm                     740718\n",
      "R/Router                   740718\n",
      "dtype: int64\n"
     ]
    }
   ],
   "source": [
    "# randomly-sample an equal number of data points from each galaxy type\n",
    "# the sample size is equal to the number of datapoints for the galaxy with the smallest number of datapoints\n",
    "sample_size = df_filtered.groupby('galaxy').size().min()\n",
    "df_sampled = df_filtered.groupby('galaxy').apply(lambda x: x.sample(sample_size)).reset_index(drop=True)\n",
    "\n",
    "nan_counts = df_sampled.isna().sum()\n",
    "total_counts = df_sampled.count()\n",
    "print(nan_counts)\n",
    "print(total_counts)"
   ]
  },
  {
   "cell_type": "code",
   "execution_count": 80,
   "id": "0a16cf49",
   "metadata": {},
   "outputs": [],
   "source": [
    "# # plot histograms of every feature, one by one\n",
    "# for key in df_filtered.keys():\n",
    "#     if not key in ['galaxy', 'R/Router']:\n",
    "#         print(key)\n",
    "#         plt.hist(np.log10(df_filtered[key]+1.e-50), bins=100, log=True)\n",
    "#         plt.xlabel(key)\n",
    "#         plt.ylabel('Number of elements')\n",
    "#         plt.show()"
   ]
  },
  {
   "cell_type": "code",
   "execution_count": 81,
   "id": "d01d4351-8f41-40b2-b9f4-16611f4b62bc",
   "metadata": {},
   "outputs": [],
   "source": [
    "# save the table as a parquet file\n",
    "#df_filtered.to_parquet('/n/holystore01/LABS/itc_lab/Users/sjeffreson/GalactISM/GalactISM_exc-MW.parquet')\n",
    "#df_filtered.to_parquet('/n/holystore01/LABS/itc_lab/Users/sjeffreson/GalactISM/GalactISM_NGC300.parquet')\n",
    "df_filtered.to_parquet('/n/holystore01/LABS/itc_lab/Users/sjeffreson/GalactISM/GalactISM.parquet')"
   ]
  },
  {
   "cell_type": "code",
   "execution_count": null,
   "id": "86ac84bb-6ad1-4056-a7d2-c2d41d8d3464",
   "metadata": {},
   "outputs": [],
   "source": []
  },
  {
   "cell_type": "code",
   "execution_count": null,
   "id": "35fd00a5",
   "metadata": {},
   "outputs": [],
   "source": []
  }
 ],
 "metadata": {
  "kernelspec": {
   "display_name": "Python 3 (ipykernel)",
   "language": "python",
   "name": "python3"
  },
  "language_info": {
   "codemirror_mode": {
    "name": "ipython",
    "version": 3
   },
   "file_extension": ".py",
   "mimetype": "text/x-python",
   "name": "python",
   "nbconvert_exporter": "python",
   "pygments_lexer": "ipython3",
   "version": "3.8.18"
  }
 },
 "nbformat": 4,
 "nbformat_minor": 5
}
